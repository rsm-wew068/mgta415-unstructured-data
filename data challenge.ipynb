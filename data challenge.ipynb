{
 "cells": [
  {
   "cell_type": "markdown",
   "metadata": {},
   "source": [
    "# Word2Vec"
   ]
  },
  {
   "cell_type": "code",
   "execution_count": 1,
   "metadata": {},
   "outputs": [],
   "source": [
    "import pandas as pd\n",
    "import numpy as np\n",
    "import itertools\n",
    "from collections import Counter\n",
    "from nltk import word_tokenize\n",
    "from nltk.corpus import stopwords\n",
    "from gensim.models import Word2Vec\n",
    "from sklearn.model_selection import train_test_split\n",
    "from xgboost import XGBClassifier\n",
    "from sklearn.metrics import f1_score, classification_report\n",
    "import optuna\n",
    "import string\n",
    "import os"
   ]
  },
  {
   "cell_type": "code",
   "execution_count": 2,
   "metadata": {},
   "outputs": [],
   "source": [
    "# Load Data\n",
    "train_df = pd.read_csv(\"train.csv\")\n",
    "test_df = pd.read_csv(\"test.csv\")\n",
    "\n",
    "# Copy review column to 'text' (to match baseline format)\n",
    "train_df[\"text\"] = train_df[\"review\"]\n",
    "test_df[\"text\"] = test_df[\"review\"]\n",
    "\n",
    "# Text Cleaning\n",
    "stop_words = set(stopwords.words(\"english\"))\n",
    "translator = str.maketrans(string.punctuation, \" \" * len(string.punctuation))\n",
    "\n",
    "def preprocess_text(text):\n",
    "    \"\"\"Removes punctuation, tokenizes, and removes stopwords.\"\"\"\n",
    "    text_nopunct = text.translate(translator)\n",
    "    words_list = text_nopunct.strip().split()\n",
    "    filtered_words = [word for word in words_list if word.lower() not in stop_words and len(word) > 1]\n",
    "    return filtered_words\n",
    "\n",
    "# Apply Preprocessing\n",
    "train_df[\"text\"] = train_df[\"text\"].apply(preprocess_text)\n",
    "test_df[\"text\"] = test_df[\"text\"].apply(preprocess_text)"
   ]
  },
  {
   "cell_type": "code",
   "execution_count": 3,
   "metadata": {},
   "outputs": [],
   "source": [
    "# Build Vocabulary\n",
    "tagged_data = train_df[\"text\"].tolist()  # Convert text column to list of tokenized sentences\n",
    "word_counts = Counter(itertools.chain(*tagged_data))\n",
    "vocabulary_inv = [x[0] for x in word_counts.most_common()]\n",
    "vocabulary = {x: i for i, x in enumerate(vocabulary_inv)}\n",
    "\n",
    "# Train Word2Vec Embeddings\n",
    "embedding_model = Word2Vec(sentences=tagged_data, vector_size=100, window=5, min_count=2, workers=4)\n",
    "embedding_weights = np.zeros((len(vocabulary_inv), 100))\n",
    "\n",
    "for i, word in enumerate(vocabulary_inv):\n",
    "    if word in embedding_model.wv:\n",
    "        embedding_weights[i] = embedding_model.wv[word]\n",
    "    else:\n",
    "        embedding_weights[i] = np.random.uniform(-0.25, 0.25, 100)  # Assign random vector for unseen words\n",
    "\n",
    "# Convert Sentences to Word Vectors\n",
    "def get_sentence_vector(words):\n",
    "    \"\"\"Averages Word2Vec embeddings for words in a sentence.\"\"\"\n",
    "    vec = np.zeros(100)\n",
    "    valid_words = [word for word in words if word in vocabulary]\n",
    "    \n",
    "    if len(valid_words) == 0:\n",
    "        return vec  # Return zero vector if no valid words\n",
    "    \n",
    "    for word in valid_words:\n",
    "        vec += embedding_weights[vocabulary[word]]\n",
    "    \n",
    "    return vec / len(valid_words)  # Average the vectors\n",
    "\n",
    "# Create Train & Test Feature Matrices\n",
    "X_train = np.array([get_sentence_vector(text) for text in train_df[\"text\"]])\n",
    "X_test = np.array([get_sentence_vector(text) for text in test_df[\"text\"]])\n",
    "\n",
    "# Encode Labels as Integers\n",
    "from sklearn.preprocessing import LabelEncoder\n",
    "label_encoder = LabelEncoder()\n",
    "y_train = label_encoder.fit_transform(train_df[\"label\"])"
   ]
  },
  {
   "cell_type": "code",
   "execution_count": 4,
   "metadata": {},
   "outputs": [],
   "source": [
    "from sklearn.model_selection import GridSearchCV, train_test_split\n",
    "\n",
    "# Split the training data for validation\n",
    "X_train_split, X_val, y_train_split, y_val = train_test_split(\n",
    "    X_train, y_train, test_size=0.2, stratify=y_train, random_state=42\n",
    ")\n",
    "\n"
   ]
  },
  {
   "cell_type": "code",
   "execution_count": 11,
   "metadata": {},
   "outputs": [
    {
     "data": {
      "text/plain": [
       "id                         int64\n",
       "attributes.HappyHour      object\n",
       "attributes.Ambience       object\n",
       "hours.Tuesday             object\n",
       "postal_code               object\n",
       "                           ...  \n",
       "attributes.GoodForMeal    object\n",
       "hours                     object\n",
       "label                     object\n",
       "review                    object\n",
       "text                      object\n",
       "Length: 63, dtype: object"
      ]
     },
     "execution_count": 11,
     "metadata": {},
     "output_type": "execute_result"
    }
   ],
   "source": [
    "train_df.dtypes"
   ]
  },
  {
   "cell_type": "code",
   "execution_count": 12,
   "metadata": {},
   "outputs": [
    {
     "data": {
      "text/plain": [
       "id                         int64\n",
       "attributes.HappyHour      object\n",
       "attributes.Ambience       object\n",
       "hours.Tuesday             object\n",
       "postal_code               object\n",
       "                           ...  \n",
       "attributes.GoodForKids    object\n",
       "attributes.GoodForMeal    object\n",
       "hours                     object\n",
       "review                    object\n",
       "text                      object\n",
       "Length: 62, dtype: object"
      ]
     },
     "execution_count": 12,
     "metadata": {},
     "output_type": "execute_result"
    }
   ],
   "source": [
    "test_df.dtypes"
   ]
  },
  {
   "cell_type": "markdown",
   "metadata": {},
   "source": [
    "# Logistic"
   ]
  },
  {
   "cell_type": "code",
   "execution_count": 2,
   "metadata": {},
   "outputs": [],
   "source": [
    "import numpy as np\n",
    "import pandas as pd\n",
    "from sklearn.feature_extraction.text import TfidfVectorizer\n",
    "from sklearn.preprocessing import LabelEncoder\n",
    "from sklearn.model_selection import train_test_split, RandomizedSearchCV, cross_val_score\n",
    "from sklearn.ensemble import StackingClassifier\n",
    "from xgboost import XGBClassifier\n",
    "from sklearn.linear_model import LogisticRegression\n",
    "from sklearn.utils.class_weight import compute_class_weight\n",
    "from sklearn.metrics import f1_score"
   ]
  },
  {
   "cell_type": "code",
   "execution_count": 26,
   "metadata": {},
   "outputs": [],
   "source": [
    "# Load Data\n",
    "train_df = pd.read_csv(\"train.csv\")\n",
    "test_df = pd.read_csv(\"test.csv\")\n",
    "\n",
    "# Fill missing values\n",
    "train_df[\"review\"] = train_df[\"review\"].fillna(\"\")\n",
    "test_df[\"review\"] = test_df[\"review\"].fillna(\"\")\n",
    "\n",
    "# Encode Labels\n",
    "label_encoder = LabelEncoder()\n",
    "y_train = label_encoder.fit_transform(train_df[\"label\"])\n",
    "\n",
    "# Compute Class Weights for Imbalanced Classes\n",
    "class_weights = compute_class_weight(\"balanced\", classes=np.unique(y_train), y=y_train)\n",
    "class_weight_dict = {i: class_weights[i] for i in range(len(class_weights))}"
   ]
  },
  {
   "cell_type": "markdown",
   "metadata": {},
   "source": [
    "tf-idf"
   ]
  },
  {
   "cell_type": "code",
   "execution_count": 30,
   "metadata": {},
   "outputs": [],
   "source": [
    "from sklearn.model_selection import StratifiedKFold, RandomizedSearchCV, cross_val_score\n",
    "from sklearn.feature_extraction.text import TfidfVectorizer\n",
    "from sklearn.feature_selection import SelectKBest, chi2\n",
    "from sklearn.linear_model import LogisticRegression\n",
    "from sklearn.utils.class_weight import compute_class_weight\n",
    "import numpy as np"
   ]
  },
  {
   "cell_type": "code",
   "execution_count": 103,
   "metadata": {},
   "outputs": [],
   "source": [
    "from sklearn.feature_extraction.text import TfidfVectorizer\n",
    "\n",
    "# Optimized TF-IDF\n",
    "tfidf = TfidfVectorizer(\n",
    "    max_features=40000,  # More features = better representation\n",
    "    stop_words=\"english\",  # Prevents removing important words\n",
    "    ngram_range=(1, 3),  # Uses unigrams, bigrams, trigrams\n",
    ")\n",
    "\n",
    "# Fit TF-IDF on train data and transform both train & test\n",
    "X_train_text = tfidf.fit_transform(train_df[\"review\"])\n",
    "X_test_text = tfidf.transform(test_df[\"review\"])"
   ]
  },
  {
   "cell_type": "code",
   "execution_count": 99,
   "metadata": {},
   "outputs": [],
   "source": [
    "\n",
    "\n",
    "# **3️⃣ Compute Class Weights (No SMOTE, No Synthetic Data)**\n",
    "class_weights = compute_class_weight(\"balanced\", classes=np.unique(y_train), y=y_train)\n",
    "class_weight_dict = {i: class_weights[i] for i in range(len(class_weights))}\n"
   ]
  },
  {
   "cell_type": "code",
   "execution_count": 104,
   "metadata": {},
   "outputs": [
    {
     "name": "stdout",
     "output_type": "stream",
     "text": [
      "Fitting 5 folds for each of 10 candidates, totalling 50 fits\n",
      "Best Hyperparameters for Logistic Regression: {'solver': 'lbfgs', 'penalty': 'l2', 'C': 2.329951810515372}\n",
      "Best Cross-Validation F1 Score: 0.8113\n",
      "Cross-Validation F1 Scores: [0.80810499 0.80835394 0.81546542 0.8088744  0.80516052]\n",
      "Mean Cross-Validation F1 Score (After Fixes): 0.8092\n"
     ]
    }
   ],
   "source": [
    "# **4️⃣ Tune Logistic Regression (Stronger Regularization)**\n",
    "param_dist_logreg = {\n",
    "    \"C\": np.logspace(-2, 2),  # ✅ Reduce number of `C` values\n",
    "    \"penalty\": [\"l2\"],  # ✅ Use only L2 regularization (L1 & ElasticNet take longer)\n",
    "    \"solver\": [\"lbfgs\"],  # ✅ \"lbfgs\" is much faster than \"saga\"\n",
    "}\n",
    "\n",
    "strat_k_fold = StratifiedKFold(n_splits=5, shuffle=True, random_state=1234)\n",
    "\n",
    "cv_lr = RandomizedSearchCV(\n",
    "    LogisticRegression(max_iter=5000, class_weight=\"balanced\"),\n",
    "    param_distributions=param_dist_logreg,\n",
    "    n_iter=10,\n",
    "    scoring=\"f1_weighted\",\n",
    "    cv=strat_k_fold,\n",
    "    verbose=3,\n",
    "    n_jobs=-1,\n",
    "    refit=True,\n",
    "    random_state=1234\n",
    ")\n",
    "\n",
    "# **5️⃣ Train Model on Optimized Features**\n",
    "cv_lr.fit(X_train_text, y_train)\n",
    "\n",
    "# **6️⃣ Print Best Hyperparameters**\n",
    "print(f\"Best Hyperparameters for Logistic Regression: {cv_lr.best_params_}\")\n",
    "\n",
    "# **7️⃣ Get Cross-Validation F1 Score**\n",
    "print(f\"Best Cross-Validation F1 Score: {cv_lr.best_score_:.4f}\")\n",
    "\n",
    "# **8️⃣ Perform Cross-Validation on Final Model**\n",
    "cv_f1_scores = cross_val_score(cv_lr.best_estimator_, X_train_text, y_train, cv=5, scoring=\"f1_weighted\")\n",
    "\n",
    "print(f\"Cross-Validation F1 Scores: {cv_f1_scores}\")\n",
    "print(f\"Mean Cross-Validation F1 Score (After Fixes): {np.mean(cv_f1_scores):.4f}\")"
   ]
  },
  {
   "cell_type": "markdown",
   "metadata": {},
   "source": [
    "40000+tri\n",
    "Fitting 5 folds for each of 10 candidates, totalling 50 fits\n",
    "Best Hyperparameters for Logistic Regression: {'solver': 'lbfgs', 'penalty': 'l2', 'C': 1.6681005372000592}\n",
    "Best Cross-Validation F1 Score: 0.8111\n",
    "Cross-Validation F1 Scores: [0.81029765 0.80725435 0.81484751 0.81173258 0.80379977]\n",
    "Mean Cross-Validation F1 Score (After Fixes): 0.8096"
   ]
  },
  {
   "cell_type": "markdown",
   "metadata": {},
   "source": [
    "param 2\n",
    "Fitting 5 folds for each of 10 candidates, totalling 50 fits\n",
    "Best Hyperparameters for Logistic Regression: {'solver': 'lbfgs', 'penalty': 'l2', 'C': 2.329951810515372}\n",
    "Best Cross-Validation F1 Score: 0.8113\n",
    "Cross-Validation F1 Scores: [0.80810499 0.80835394 0.81546542 0.8088744  0.80516052]\n",
    "Mean Cross-Validation F1 Score (After Fixes): 0.8092"
   ]
  },
  {
   "cell_type": "code",
   "execution_count": 105,
   "metadata": {},
   "outputs": [],
   "source": [
    "# **9️⃣ Predict on Test Set**\n",
    "y_test_pred = cv_lr.best_estimator_.predict(X_test_text)\n",
    "\n",
    "# **Convert Predictions Back to Original Labels**\n",
    "test_predictions = label_encoder.inverse_transform(y_test_pred)"
   ]
  },
  {
   "cell_type": "markdown",
   "metadata": {},
   "source": [
    "Fitting 5 folds for each of 10 candidates, totalling 50 fits\n",
    "Fitting 5 folds for each of 10 candidates, totalling 50 fits\n",
    "Fitting 5 folds for each of 10 candidates, totalling 50 fits\n",
    "Fitting 5 folds for each of 10 candidates, totalling 50 fits\n",
    "Fitting 5 folds for each of 10 candidates, totalling 50 fits\n",
    "Cross-Validation F1 Scores: [0.80664348 0.80757936 0.81494534 0.81038033 0.80452157]\n",
    "Mean Cross-Validation F1 Score: 0.8088"
   ]
  },
  {
   "cell_type": "code",
   "execution_count": 106,
   "metadata": {},
   "outputs": [
    {
     "name": "stdout",
     "output_type": "stream",
     "text": [
      "Predictions saved to predictions.csv\n"
     ]
    }
   ],
   "source": [
    "\n",
    "\n",
    "# **Save Predictions**\n",
    "submission_df = pd.DataFrame({\"Id\": test_df[\"id\"], \"Predicted\": test_predictions})\n",
    "submission_df.to_csv(\"predictions.csv\", index=False)\n",
    "print(\"Predictions saved to predictions.csv\")"
   ]
  },
  {
   "cell_type": "code",
   "execution_count": 77,
   "metadata": {},
   "outputs": [
    {
     "data": {
      "image/png": "[encoded data removed]",
      "text/plain": [
       "<Figure size 1000x500 with 1 Axes>"
      ]
     },
     "metadata": {},
     "output_type": "display_data"
    }
   ],
   "source": [
    "import seaborn as sns\n",
    "import matplotlib.pyplot as plt\n",
    "\n",
    "# Count class distribution\n",
    "label_counts = pd.Series(y_train).value_counts()\n",
    "\n",
    "# Plot class distribution\n",
    "plt.figure(figsize=(10, 5))\n",
    "sns.barplot(x=label_counts.index, y=label_counts.values)\n",
    "plt.xlabel(\"Encoded Label\")\n",
    "plt.ylabel(\"Count\")\n",
    "plt.title(\"Class Distribution of Restaurant Types\")\n",
    "plt.show()"
   ]
  }
 ],
 "metadata": {
  "kernelspec": {
   "display_name": "base",
   "language": "python",
   "name": "python3"
  },
  "language_info": {
   "codemirror_mode": {
    "name": "ipython",
    "version": 3
   },
   "file_extension": ".py",
   "mimetype": "text/x-python",
   "name": "python",
   "nbconvert_exporter": "python",
   "pygments_lexer": "ipython3",
   "version": "3.11.9"
  }
 },
 "nbformat": 4,
 "nbformat_minor": 2
}
