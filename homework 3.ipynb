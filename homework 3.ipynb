{
 "cells": [
  {
   "cell_type": "code",
   "execution_count": 200,
   "metadata": {},
   "outputs": [],
   "source": [
    "import pandas as pd"
   ]
  },
  {
   "cell_type": "code",
   "execution_count": 201,
   "metadata": {},
   "outputs": [
    {
     "data": {
      "application/vnd.microsoft.datawrangler.viewer.v0+json": {
       "columns": [
        {
         "name": "index",
         "rawType": "int64",
         "type": "integer"
        },
        {
         "name": "Score",
         "rawType": "float64",
         "type": "float"
        },
        {
         "name": "Phrase",
         "rawType": "object",
         "type": "string"
        }
       ],
       "conversionMethod": "pd.DataFrame",
       "ref": "4d9d796b-561a-40cf-9227-e1c81332a1f8",
       "rows": [
        [
         "0",
         "0.9874120703",
         "density estimation"
        ],
        [
         "1",
         "0.9857778001",
         "inverse kinematics"
        ],
        [
         "2",
         "0.9854621301",
         "gröbner bases"
        ],
        [
         "3",
         "0.9845627415",
         "amdahl's law"
        ],
        [
         "4",
         "0.9839783569",
         "mutual information"
        ]
       ],
       "shape": {
        "columns": 2,
        "rows": 5
       }
      },
      "text/html": [
       "<div>\n",
       "<style scoped>\n",
       "    .dataframe tbody tr th:only-of-type {\n",
       "        vertical-align: middle;\n",
       "    }\n",
       "\n",
       "    .dataframe tbody tr th {\n",
       "        vertical-align: top;\n",
       "    }\n",
       "\n",
       "    .dataframe thead th {\n",
       "        text-align: right;\n",
       "    }\n",
       "</style>\n",
       "<table border=\"1\" class=\"dataframe\">\n",
       "  <thead>\n",
       "    <tr style=\"text-align: right;\">\n",
       "      <th></th>\n",
       "      <th>Score</th>\n",
       "      <th>Phrase</th>\n",
       "    </tr>\n",
       "  </thead>\n",
       "  <tbody>\n",
       "    <tr>\n",
       "      <th>0</th>\n",
       "      <td>0.987412</td>\n",
       "      <td>density estimation</td>\n",
       "    </tr>\n",
       "    <tr>\n",
       "      <th>1</th>\n",
       "      <td>0.985778</td>\n",
       "      <td>inverse kinematics</td>\n",
       "    </tr>\n",
       "    <tr>\n",
       "      <th>2</th>\n",
       "      <td>0.985462</td>\n",
       "      <td>gröbner bases</td>\n",
       "    </tr>\n",
       "    <tr>\n",
       "      <th>3</th>\n",
       "      <td>0.984563</td>\n",
       "      <td>amdahl's law</td>\n",
       "    </tr>\n",
       "    <tr>\n",
       "      <th>4</th>\n",
       "      <td>0.983978</td>\n",
       "      <td>mutual information</td>\n",
       "    </tr>\n",
       "  </tbody>\n",
       "</table>\n",
       "</div>"
      ],
      "text/plain": [
       "      Score              Phrase\n",
       "0  0.987412  density estimation\n",
       "1  0.985778  inverse kinematics\n",
       "2  0.985462       gröbner bases\n",
       "3  0.984563        amdahl's law\n",
       "4  0.983978  mutual information"
      ]
     },
     "execution_count": 201,
     "metadata": {},
     "output_type": "execute_result"
    }
   ],
   "source": [
    "ap_unified = pd.read_csv(\"HW3/AutoPhrase.txt\", sep='\\t', header=None, names=['Score', 'Phrase'])\n",
    "ap_unified.head()"
   ]
  },
  {
   "cell_type": "code",
   "execution_count": 202,
   "metadata": {},
   "outputs": [
    {
     "data": {
      "application/vnd.microsoft.datawrangler.viewer.v0+json": {
       "columns": [
        {
         "name": "index",
         "rawType": "int64",
         "type": "integer"
        },
        {
         "name": "Score",
         "rawType": "float64",
         "type": "float"
        },
        {
         "name": "Phrase",
         "rawType": "object",
         "type": "string"
        }
       ],
       "conversionMethod": "pd.DataFrame",
       "ref": "02339d7c-4748-41ee-a231-509397e3ec9a",
       "rows": [
        [
         "0",
         "0.9874120703",
         "density estimation"
        ],
        [
         "1",
         "0.9857778001",
         "inverse kinematics"
        ],
        [
         "2",
         "0.9854621301",
         "gröbner bases"
        ],
        [
         "3",
         "0.9845627415",
         "amdahl's law"
        ],
        [
         "4",
         "0.9839783569",
         "mutual information"
        ]
       ],
       "shape": {
        "columns": 2,
        "rows": 5
       }
      },
      "text/html": [
       "<div>\n",
       "<style scoped>\n",
       "    .dataframe tbody tr th:only-of-type {\n",
       "        vertical-align: middle;\n",
       "    }\n",
       "\n",
       "    .dataframe tbody tr th {\n",
       "        vertical-align: top;\n",
       "    }\n",
       "\n",
       "    .dataframe thead th {\n",
       "        text-align: right;\n",
       "    }\n",
       "</style>\n",
       "<table border=\"1\" class=\"dataframe\">\n",
       "  <thead>\n",
       "    <tr style=\"text-align: right;\">\n",
       "      <th></th>\n",
       "      <th>Score</th>\n",
       "      <th>Phrase</th>\n",
       "    </tr>\n",
       "  </thead>\n",
       "  <tbody>\n",
       "    <tr>\n",
       "      <th>0</th>\n",
       "      <td>0.987412</td>\n",
       "      <td>density estimation</td>\n",
       "    </tr>\n",
       "    <tr>\n",
       "      <th>1</th>\n",
       "      <td>0.985778</td>\n",
       "      <td>inverse kinematics</td>\n",
       "    </tr>\n",
       "    <tr>\n",
       "      <th>2</th>\n",
       "      <td>0.985462</td>\n",
       "      <td>gröbner bases</td>\n",
       "    </tr>\n",
       "    <tr>\n",
       "      <th>3</th>\n",
       "      <td>0.984563</td>\n",
       "      <td>amdahl's law</td>\n",
       "    </tr>\n",
       "    <tr>\n",
       "      <th>4</th>\n",
       "      <td>0.983978</td>\n",
       "      <td>mutual information</td>\n",
       "    </tr>\n",
       "  </tbody>\n",
       "</table>\n",
       "</div>"
      ],
      "text/plain": [
       "      Score              Phrase\n",
       "0  0.987412  density estimation\n",
       "1  0.985778  inverse kinematics\n",
       "2  0.985462       gröbner bases\n",
       "3  0.984563        amdahl's law\n",
       "4  0.983978  mutual information"
      ]
     },
     "execution_count": 202,
     "metadata": {},
     "output_type": "execute_result"
    }
   ],
   "source": [
    "ap_multi = pd.read_csv(\"HW3/AutoPhrase_multi-words.txt\", sep='\\t', header=None, names=['Score', 'Phrase'])\n",
    "ap_multi.head()"
   ]
  },
  {
   "cell_type": "code",
   "execution_count": 203,
   "metadata": {},
   "outputs": [
    {
     "data": {
      "application/vnd.microsoft.datawrangler.viewer.v0+json": {
       "columns": [
        {
         "name": "index",
         "rawType": "int64",
         "type": "integer"
        },
        {
         "name": "Score",
         "rawType": "float64",
         "type": "float"
        },
        {
         "name": "Phrase",
         "rawType": "object",
         "type": "string"
        }
       ],
       "conversionMethod": "pd.DataFrame",
       "ref": "b44f5599-9ace-4b2d-8c84-f0db77594858",
       "rows": [
        [
         "0",
         "0.9077550385",
         "prob"
        ],
        [
         "1",
         "0.9070666364",
         "dolphin"
        ],
        [
         "2",
         "0.9053759618",
         "eucalyptus"
        ],
        [
         "3",
         "0.9049116074",
         "fedora"
        ],
        [
         "4",
         "0.9047308432",
         "trivium"
        ]
       ],
       "shape": {
        "columns": 2,
        "rows": 5
       }
      },
      "text/html": [
       "<div>\n",
       "<style scoped>\n",
       "    .dataframe tbody tr th:only-of-type {\n",
       "        vertical-align: middle;\n",
       "    }\n",
       "\n",
       "    .dataframe tbody tr th {\n",
       "        vertical-align: top;\n",
       "    }\n",
       "\n",
       "    .dataframe thead th {\n",
       "        text-align: right;\n",
       "    }\n",
       "</style>\n",
       "<table border=\"1\" class=\"dataframe\">\n",
       "  <thead>\n",
       "    <tr style=\"text-align: right;\">\n",
       "      <th></th>\n",
       "      <th>Score</th>\n",
       "      <th>Phrase</th>\n",
       "    </tr>\n",
       "  </thead>\n",
       "  <tbody>\n",
       "    <tr>\n",
       "      <th>0</th>\n",
       "      <td>0.907755</td>\n",
       "      <td>prob</td>\n",
       "    </tr>\n",
       "    <tr>\n",
       "      <th>1</th>\n",
       "      <td>0.907067</td>\n",
       "      <td>dolphin</td>\n",
       "    </tr>\n",
       "    <tr>\n",
       "      <th>2</th>\n",
       "      <td>0.905376</td>\n",
       "      <td>eucalyptus</td>\n",
       "    </tr>\n",
       "    <tr>\n",
       "      <th>3</th>\n",
       "      <td>0.904912</td>\n",
       "      <td>fedora</td>\n",
       "    </tr>\n",
       "    <tr>\n",
       "      <th>4</th>\n",
       "      <td>0.904731</td>\n",
       "      <td>trivium</td>\n",
       "    </tr>\n",
       "  </tbody>\n",
       "</table>\n",
       "</div>"
      ],
      "text/plain": [
       "      Score      Phrase\n",
       "0  0.907755        prob\n",
       "1  0.907067     dolphin\n",
       "2  0.905376  eucalyptus\n",
       "3  0.904912      fedora\n",
       "4  0.904731     trivium"
      ]
     },
     "execution_count": 203,
     "metadata": {},
     "output_type": "execute_result"
    }
   ],
   "source": [
    "ap_single = pd.read_csv(\"HW3/AutoPhrase_single-word.txt\", sep='\\t', header=None, names=['Score', 'Phrase'])\n",
    "ap_single.head()"
   ]
  },
  {
   "cell_type": "markdown",
   "metadata": {},
   "source": [
    "# Problem 1: Phrase Mining experiments"
   ]
  },
  {
   "cell_type": "markdown",
   "metadata": {},
   "source": [
    "## a\n",
    "Did you find any phrases with abnormal scores (e.g., non-phrase with a high score or good\n",
    "phrases with a low score)? Do they show a systematic pattern? What can be the possible reason\n",
    "behind it? "
   ]
  },
  {
   "cell_type": "code",
   "execution_count": 204,
   "metadata": {},
   "outputs": [
    {
     "data": {
      "application/vnd.microsoft.datawrangler.viewer.v0+json": {
       "columns": [
        {
         "name": "index",
         "rawType": "int64",
         "type": "integer"
        },
        {
         "name": "Score",
         "rawType": "float64",
         "type": "float"
        },
        {
         "name": "Phrase",
         "rawType": "object",
         "type": "string"
        },
        {
         "name": "Category",
         "rawType": "object",
         "type": "string"
        }
       ],
       "conversionMethod": "pd.DataFrame",
       "ref": "4e5c240f-082e-475f-b050-22e065300ac1",
       "rows": [
        [
         "0",
         "0.9874120703",
         "density estimation",
         "Unified"
        ],
        [
         "1",
         "0.9857778001",
         "inverse kinematics",
         "Unified"
        ],
        [
         "2",
         "0.9854621301",
         "gröbner bases",
         "Unified"
        ],
        [
         "3",
         "0.9845627415",
         "amdahl's law",
         "Unified"
        ],
        [
         "4",
         "0.9839783569",
         "mutual information",
         "Unified"
        ]
       ],
       "shape": {
        "columns": 3,
        "rows": 5
       }
      },
      "text/html": [
       "<div>\n",
       "<style scoped>\n",
       "    .dataframe tbody tr th:only-of-type {\n",
       "        vertical-align: middle;\n",
       "    }\n",
       "\n",
       "    .dataframe tbody tr th {\n",
       "        vertical-align: top;\n",
       "    }\n",
       "\n",
       "    .dataframe thead th {\n",
       "        text-align: right;\n",
       "    }\n",
       "</style>\n",
       "<table border=\"1\" class=\"dataframe\">\n",
       "  <thead>\n",
       "    <tr style=\"text-align: right;\">\n",
       "      <th></th>\n",
       "      <th>Score</th>\n",
       "      <th>Phrase</th>\n",
       "      <th>Category</th>\n",
       "    </tr>\n",
       "  </thead>\n",
       "  <tbody>\n",
       "    <tr>\n",
       "      <th>0</th>\n",
       "      <td>0.987412</td>\n",
       "      <td>density estimation</td>\n",
       "      <td>Unified</td>\n",
       "    </tr>\n",
       "    <tr>\n",
       "      <th>1</th>\n",
       "      <td>0.985778</td>\n",
       "      <td>inverse kinematics</td>\n",
       "      <td>Unified</td>\n",
       "    </tr>\n",
       "    <tr>\n",
       "      <th>2</th>\n",
       "      <td>0.985462</td>\n",
       "      <td>gröbner bases</td>\n",
       "      <td>Unified</td>\n",
       "    </tr>\n",
       "    <tr>\n",
       "      <th>3</th>\n",
       "      <td>0.984563</td>\n",
       "      <td>amdahl's law</td>\n",
       "      <td>Unified</td>\n",
       "    </tr>\n",
       "    <tr>\n",
       "      <th>4</th>\n",
       "      <td>0.983978</td>\n",
       "      <td>mutual information</td>\n",
       "      <td>Unified</td>\n",
       "    </tr>\n",
       "  </tbody>\n",
       "</table>\n",
       "</div>"
      ],
      "text/plain": [
       "      Score              Phrase Category\n",
       "0  0.987412  density estimation  Unified\n",
       "1  0.985778  inverse kinematics  Unified\n",
       "2  0.985462       gröbner bases  Unified\n",
       "3  0.984563        amdahl's law  Unified\n",
       "4  0.983978  mutual information  Unified"
      ]
     },
     "execution_count": 204,
     "metadata": {},
     "output_type": "execute_result"
    }
   ],
   "source": [
    "ap_unified[\"Category\"] = \"Unified\"\n",
    "ap_multi[\"Category\"] = \"Multi\"\n",
    "ap_single[\"Category\"] = \"Single\"\n",
    "ap = pd.concat([ap_unified, ap_multi, ap_single])\n",
    "ap.head()"
   ]
  },
  {
   "cell_type": "code",
   "execution_count": 205,
   "metadata": {},
   "outputs": [
    {
     "data": {
      "image/png": "[encoded data removed]",
      "text/plain": [
       "<Figure size 800x500 with 1 Axes>"
      ]
     },
     "metadata": {},
     "output_type": "display_data"
    }
   ],
   "source": [
    "import matplotlib.pyplot as plt\n",
    "\n",
    "plt.figure(figsize=(8,5))\n",
    "plt.hist(ap_unified[\"Score\"], bins=50, alpha=0.7, label=\"Unified Phrases\")\n",
    "plt.hist(ap_single[\"Score\"], bins=50, alpha=0.7, label=\"Single-Word Phrases\")\n",
    "plt.hist(ap_multi[\"Score\"], bins=50, alpha=0.7, label=\"Multi-Word Phrases\")\n",
    "plt.xlabel(\"Phrase Score\")\n",
    "plt.ylabel(\"Frequency\")\n",
    "plt.title(\"AutoPhrase Score Distribution\")\n",
    "plt.legend()\n",
    "plt.show()"
   ]
  },
  {
   "cell_type": "code",
   "execution_count": null,
   "metadata": {
    "vscode": {
     "languageId": "shellscript"
    }
   },
   "outputs": [],
   "source": [
    "# Compute dynamic thresholds using percentiles\n",
    "high_threshold = ap_unified[\"Score\"].quantile(0.95)\n",
    "low_threshold = ap_unified[\"Score\"].quantile(0.05) "
   ]
  },
  {
   "cell_type": "code",
   "execution_count": 273,
   "metadata": {
    "vscode": {
     "languageId": "shellscript"
    }
   },
   "outputs": [
    {
     "data": {
      "application/vnd.microsoft.datawrangler.viewer.v0+json": {
       "columns": [
        {
         "name": "index",
         "rawType": "int64",
         "type": "integer"
        },
        {
         "name": "Score",
         "rawType": "float64",
         "type": "float"
        },
        {
         "name": "Phrase",
         "rawType": "object",
         "type": "string"
        },
        {
         "name": "Category",
         "rawType": "object",
         "type": "string"
        }
       ],
       "conversionMethod": "pd.DataFrame",
       "ref": "de4e480a-1297-4759-8922-8e3578ca2466",
       "rows": [
        [
         "0",
         "0.9077550385",
         "prob",
         "Single"
        ],
        [
         "1",
         "0.9070666364",
         "dolphin",
         "Single"
        ],
        [
         "2",
         "0.9053759618",
         "eucalyptus",
         "Single"
        ],
        [
         "3",
         "0.9049116074",
         "fedora",
         "Single"
        ],
        [
         "4",
         "0.9047308432",
         "trivium",
         "Single"
        ],
        [
         "5",
         "0.9032940265",
         "medline",
         "Single"
        ],
        [
         "6",
         "0.9031270514",
         "sato",
         "Single"
        ],
        [
         "7",
         "0.9030765199",
         "mizar",
         "Single"
        ],
        [
         "8",
         "0.9030338452",
         "orchestra",
         "Single"
        ],
        [
         "9",
         "0.9028691788",
         "butler",
         "Single"
        ],
        [
         "10",
         "0.9026118373",
         "codd",
         "Single"
        ],
        [
         "11",
         "0.9021701289",
         "pegasus",
         "Single"
        ],
        [
         "12",
         "0.9017020275",
         "divine",
         "Single"
        ],
        [
         "13",
         "0.9016533872",
         "gflops",
         "Single"
        ],
        [
         "14",
         "0.9013270514",
         "artemis",
         "Single"
        ],
        [
         "15",
         "0.9010819166",
         "giga",
         "Single"
        ],
        [
         "16",
         "0.9006149661",
         "miami",
         "Single"
        ],
        [
         "17",
         "0.9005939634",
         "kanban",
         "Single"
        ],
        [
         "18",
         "0.9001715178",
         "promodel",
         "Single"
        ],
        [
         "19",
         "0.900084808",
         "doom",
         "Single"
        ],
        [
         "20",
         "0.9000807315",
         "greek",
         "Single"
        ],
        [
         "21",
         "0.9000591936",
         "tex",
         "Single"
        ],
        [
         "22",
         "0.8999675694",
         "agora",
         "Single"
        ],
        [
         "23",
         "0.8999430468",
         "amoeba",
         "Single"
        ],
        [
         "24",
         "0.8996379083",
         "ken",
         "Single"
        ],
        [
         "25",
         "0.8994603847",
         "titan",
         "Single"
        ],
        [
         "26",
         "0.8994287873",
         "pig",
         "Single"
        ],
        [
         "27",
         "0.899415501",
         "trio",
         "Single"
        ],
        [
         "28",
         "0.899383449",
         "magma",
         "Single"
        ],
        [
         "29",
         "0.8993572207",
         "farmer",
         "Single"
        ],
        [
         "30",
         "0.8992722895",
         "hera",
         "Single"
        ],
        [
         "31",
         "0.8991030709",
         "sprint",
         "Single"
        ],
        [
         "32",
         "0.899053848",
         "octopus",
         "Single"
        ],
        [
         "33",
         "0.8989757067",
         "mobil",
         "Single"
        ],
        [
         "34",
         "0.8989630487",
         "chorus",
         "Single"
        ],
        [
         "35",
         "0.8988788731",
         "simulink",
         "Single"
        ],
        [
         "36",
         "0.8987087416",
         "prophet",
         "Single"
        ],
        [
         "37",
         "0.8986219828",
         "dear",
         "Single"
        ],
        [
         "38",
         "0.8985025515",
         "rabbit",
         "Single"
        ],
        [
         "39",
         "0.8984396151",
         "jboss",
         "Single"
        ],
        [
         "40",
         "0.8984163591",
         "deng",
         "Single"
        ],
        [
         "41",
         "0.8983544207",
         "daniel",
         "Single"
        ],
        [
         "42",
         "0.898333036",
         "emerald",
         "Single"
        ],
        [
         "43",
         "0.8983065813",
         "cedar",
         "Single"
        ],
        [
         "44",
         "0.8982937181",
         "falcon",
         "Single"
        ],
        [
         "45",
         "0.8982066327",
         "xerox",
         "Single"
        ],
        [
         "46",
         "0.8981633562",
         "arcade",
         "Single"
        ],
        [
         "47",
         "0.8981333406",
         "quark",
         "Single"
        ],
        [
         "48",
         "0.8980425126",
         "automod",
         "Single"
        ],
        [
         "49",
         "0.8980211312",
         "sisal",
         "Single"
        ]
       ],
       "shape": {
        "columns": 3,
        "rows": 2554
       }
      },
      "text/html": [
       "<div>\n",
       "<style scoped>\n",
       "    .dataframe tbody tr th:only-of-type {\n",
       "        vertical-align: middle;\n",
       "    }\n",
       "\n",
       "    .dataframe tbody tr th {\n",
       "        vertical-align: top;\n",
       "    }\n",
       "\n",
       "    .dataframe thead th {\n",
       "        text-align: right;\n",
       "    }\n",
       "</style>\n",
       "<table border=\"1\" class=\"dataframe\">\n",
       "  <thead>\n",
       "    <tr style=\"text-align: right;\">\n",
       "      <th></th>\n",
       "      <th>Score</th>\n",
       "      <th>Phrase</th>\n",
       "      <th>Category</th>\n",
       "    </tr>\n",
       "  </thead>\n",
       "  <tbody>\n",
       "    <tr>\n",
       "      <th>0</th>\n",
       "      <td>0.907755</td>\n",
       "      <td>prob</td>\n",
       "      <td>Single</td>\n",
       "    </tr>\n",
       "    <tr>\n",
       "      <th>1</th>\n",
       "      <td>0.907067</td>\n",
       "      <td>dolphin</td>\n",
       "      <td>Single</td>\n",
       "    </tr>\n",
       "    <tr>\n",
       "      <th>2</th>\n",
       "      <td>0.905376</td>\n",
       "      <td>eucalyptus</td>\n",
       "      <td>Single</td>\n",
       "    </tr>\n",
       "    <tr>\n",
       "      <th>3</th>\n",
       "      <td>0.904912</td>\n",
       "      <td>fedora</td>\n",
       "      <td>Single</td>\n",
       "    </tr>\n",
       "    <tr>\n",
       "      <th>4</th>\n",
       "      <td>0.904731</td>\n",
       "      <td>trivium</td>\n",
       "      <td>Single</td>\n",
       "    </tr>\n",
       "    <tr>\n",
       "      <th>...</th>\n",
       "      <td>...</td>\n",
       "      <td>...</td>\n",
       "      <td>...</td>\n",
       "    </tr>\n",
       "    <tr>\n",
       "      <th>2549</th>\n",
       "      <td>0.871504</td>\n",
       "      <td>german</td>\n",
       "      <td>Single</td>\n",
       "    </tr>\n",
       "    <tr>\n",
       "      <th>2550</th>\n",
       "      <td>0.871497</td>\n",
       "      <td>interrogation</td>\n",
       "      <td>Single</td>\n",
       "    </tr>\n",
       "    <tr>\n",
       "      <th>2551</th>\n",
       "      <td>0.871496</td>\n",
       "      <td>improvisational</td>\n",
       "      <td>Single</td>\n",
       "    </tr>\n",
       "    <tr>\n",
       "      <th>2552</th>\n",
       "      <td>0.871496</td>\n",
       "      <td>dca</td>\n",
       "      <td>Single</td>\n",
       "    </tr>\n",
       "    <tr>\n",
       "      <th>2553</th>\n",
       "      <td>0.871489</td>\n",
       "      <td>fps</td>\n",
       "      <td>Single</td>\n",
       "    </tr>\n",
       "  </tbody>\n",
       "</table>\n",
       "<p>2554 rows × 3 columns</p>\n",
       "</div>"
      ],
      "text/plain": [
       "         Score           Phrase Category\n",
       "0     0.907755             prob   Single\n",
       "1     0.907067          dolphin   Single\n",
       "2     0.905376       eucalyptus   Single\n",
       "3     0.904912           fedora   Single\n",
       "4     0.904731          trivium   Single\n",
       "...        ...              ...      ...\n",
       "2549  0.871504           german   Single\n",
       "2550  0.871497    interrogation   Single\n",
       "2551  0.871496  improvisational   Single\n",
       "2552  0.871496              dca   Single\n",
       "2553  0.871489              fps   Single\n",
       "\n",
       "[2554 rows x 3 columns]"
      ]
     },
     "execution_count": 273,
     "metadata": {},
     "output_type": "execute_result"
    }
   ],
   "source": [
    "# Non-phrases that are ranked too high\n",
    "high_anomalies = ap_single[ap_single[\"Score\"] > high_threshold]  \n",
    "high_anomalies"
   ]
  },
  {
   "cell_type": "code",
   "execution_count": 275,
   "metadata": {
    "vscode": {
     "languageId": "shellscript"
    }
   },
   "outputs": [
    {
     "data": {
      "application/vnd.microsoft.datawrangler.viewer.v0+json": {
       "columns": [
        {
         "name": "index",
         "rawType": "int64",
         "type": "integer"
        },
        {
         "name": "Score",
         "rawType": "float64",
         "type": "float"
        },
        {
         "name": "Phrase",
         "rawType": "object",
         "type": "string"
        },
        {
         "name": "Category",
         "rawType": "object",
         "type": "string"
        }
       ],
       "conversionMethod": "pd.DataFrame",
       "ref": "c8f82aaf-f7d7-4d0e-b41b-cc904a18f4e1",
       "rows": [
        [
         "614339",
         "0.0272486902",
         "the true state",
         "Multi"
        ],
        [
         "614340",
         "0.0272477306",
         "dynamic negotiation of",
         "Multi"
        ],
        [
         "614341",
         "0.0272474049",
         "analytic methods for",
         "Multi"
        ],
        [
         "614342",
         "0.0272473444",
         "element solution of",
         "Multi"
        ],
        [
         "614343",
         "0.0272472965",
         "domain of attraction for",
         "Multi"
        ],
        [
         "614344",
         "0.0272472965",
         "focus of attention from",
         "Multi"
        ],
        [
         "614345",
         "0.0272465122",
         "complete even on",
         "Multi"
        ],
        [
         "614346",
         "0.0272458809",
         "the simple network",
         "Multi"
        ],
        [
         "614347",
         "0.0272441482",
         "policy optimization for",
         "Multi"
        ],
        [
         "614348",
         "0.0272438482",
         "enhancing privacy in",
         "Multi"
        ],
        [
         "614349",
         "0.0272438322",
         "in probabilistic terms",
         "Multi"
        ],
        [
         "614350",
         "0.0272431754",
         "the data characteristics",
         "Multi"
        ],
        [
         "614351",
         "0.0272426505",
         "time delay systems based on",
         "Multi"
        ],
        [
         "614352",
         "0.0272424197",
         "electronic states in",
         "Multi"
        ],
        [
         "614353",
         "0.0272422678",
         "challenges in terms of",
         "Multi"
        ],
        [
         "614354",
         "0.0272421147",
         "easily applied in",
         "Multi"
        ],
        [
         "614355",
         "0.0272414984",
         "an open set of",
         "Multi"
        ],
        [
         "614356",
         "0.0272414984",
         "the routing performance of",
         "Multi"
        ],
        [
         "614357",
         "0.0272414984",
         "the general applicability of",
         "Multi"
        ],
        [
         "614358",
         "0.0272414176",
         "does not scale well with",
         "Multi"
        ],
        [
         "614359",
         "0.0272413584",
         "a significant gain in",
         "Multi"
        ],
        [
         "614360",
         "0.0272413584",
         "a desirable property of",
         "Multi"
        ],
        [
         "614361",
         "0.0272413584",
         "a central question in",
         "Multi"
        ],
        [
         "614362",
         "0.0272413584",
         "the search ability of",
         "Multi"
        ],
        [
         "614363",
         "0.0272413584",
         "a middleware platform for",
         "Multi"
        ],
        [
         "614364",
         "0.0272413584",
         "the intrinsic parameters of",
         "Multi"
        ],
        [
         "614365",
         "0.0272413584",
         "a probabilistic method for",
         "Multi"
        ],
        [
         "614366",
         "0.0272413584",
         "a short survey of",
         "Multi"
        ],
        [
         "614367",
         "0.0272413584",
         "a single scan of",
         "Multi"
        ],
        [
         "614368",
         "0.0272413584",
         "the actual values of",
         "Multi"
        ],
        [
         "614369",
         "0.0272413584",
         "a genetic approach for",
         "Multi"
        ],
        [
         "614370",
         "0.0272413584",
         "to improve quality of",
         "Multi"
        ],
        [
         "614371",
         "0.0272413584",
         "the geometrical structure of",
         "Multi"
        ],
        [
         "614372",
         "0.0272413584",
         "a scalable method for",
         "Multi"
        ],
        [
         "614373",
         "0.0272413418",
         "the output bit",
         "Multi"
        ],
        [
         "614374",
         "0.0272410052",
         "different types of constraints",
         "Multi"
        ],
        [
         "614375",
         "0.0272409115",
         "felt in",
         "Multi"
        ],
        [
         "614376",
         "0.0272399165",
         "the lessons learnt from",
         "Multi"
        ],
        [
         "614377",
         "0.0272392018",
         "several facets of",
         "Multi"
        ],
        [
         "614378",
         "0.0272392018",
         "often arises in",
         "Multi"
        ],
        [
         "614379",
         "0.0272392018",
         "much promise for",
         "Multi"
        ],
        [
         "614380",
         "0.027239087",
         "the memory energy",
         "Multi"
        ],
        [
         "614381",
         "0.0272389624",
         "the performance guarantee",
         "Multi"
        ],
        [
         "614382",
         "0.0272385962",
         "the total run time",
         "Multi"
        ],
        [
         "614383",
         "0.0272381717",
         "a 3d user interface",
         "Multi"
        ],
        [
         "614384",
         "0.0272377562",
         "large group of",
         "Multi"
        ],
        [
         "614385",
         "0.027236827",
         "node localization in",
         "Multi"
        ],
        [
         "614386",
         "0.0272353734",
         "the schedule for",
         "Multi"
        ],
        [
         "614387",
         "0.0272351691",
         "applications written in c",
         "Multi"
        ],
        [
         "614388",
         "0.0272334855",
         "the role of domain knowledge",
         "Multi"
        ]
       ],
       "shape": {
        "columns": 3,
        "rows": 36012
       }
      },
      "text/html": [
       "<div>\n",
       "<style scoped>\n",
       "    .dataframe tbody tr th:only-of-type {\n",
       "        vertical-align: middle;\n",
       "    }\n",
       "\n",
       "    .dataframe tbody tr th {\n",
       "        vertical-align: top;\n",
       "    }\n",
       "\n",
       "    .dataframe thead th {\n",
       "        text-align: right;\n",
       "    }\n",
       "</style>\n",
       "<table border=\"1\" class=\"dataframe\">\n",
       "  <thead>\n",
       "    <tr style=\"text-align: right;\">\n",
       "      <th></th>\n",
       "      <th>Score</th>\n",
       "      <th>Phrase</th>\n",
       "      <th>Category</th>\n",
       "    </tr>\n",
       "  </thead>\n",
       "  <tbody>\n",
       "    <tr>\n",
       "      <th>614339</th>\n",
       "      <td>0.027249</td>\n",
       "      <td>the true state</td>\n",
       "      <td>Multi</td>\n",
       "    </tr>\n",
       "    <tr>\n",
       "      <th>614340</th>\n",
       "      <td>0.027248</td>\n",
       "      <td>dynamic negotiation of</td>\n",
       "      <td>Multi</td>\n",
       "    </tr>\n",
       "    <tr>\n",
       "      <th>614341</th>\n",
       "      <td>0.027247</td>\n",
       "      <td>analytic methods for</td>\n",
       "      <td>Multi</td>\n",
       "    </tr>\n",
       "    <tr>\n",
       "      <th>614342</th>\n",
       "      <td>0.027247</td>\n",
       "      <td>element solution of</td>\n",
       "      <td>Multi</td>\n",
       "    </tr>\n",
       "    <tr>\n",
       "      <th>614343</th>\n",
       "      <td>0.027247</td>\n",
       "      <td>domain of attraction for</td>\n",
       "      <td>Multi</td>\n",
       "    </tr>\n",
       "    <tr>\n",
       "      <th>...</th>\n",
       "      <td>...</td>\n",
       "      <td>...</td>\n",
       "      <td>...</td>\n",
       "    </tr>\n",
       "    <tr>\n",
       "      <th>650346</th>\n",
       "      <td>0.004385</td>\n",
       "      <td>this algorithm does not</td>\n",
       "      <td>Multi</td>\n",
       "    </tr>\n",
       "    <tr>\n",
       "      <th>650347</th>\n",
       "      <td>0.004292</td>\n",
       "      <td>a programming paradigm for</td>\n",
       "      <td>Multi</td>\n",
       "    </tr>\n",
       "    <tr>\n",
       "      <th>650348</th>\n",
       "      <td>0.004292</td>\n",
       "      <td>an adaptive method of</td>\n",
       "      <td>Multi</td>\n",
       "    </tr>\n",
       "    <tr>\n",
       "      <th>650349</th>\n",
       "      <td>0.004292</td>\n",
       "      <td>an integrated database for</td>\n",
       "      <td>Multi</td>\n",
       "    </tr>\n",
       "    <tr>\n",
       "      <th>650350</th>\n",
       "      <td>0.003529</td>\n",
       "      <td>and more widely used</td>\n",
       "      <td>Multi</td>\n",
       "    </tr>\n",
       "  </tbody>\n",
       "</table>\n",
       "<p>36012 rows × 3 columns</p>\n",
       "</div>"
      ],
      "text/plain": [
       "           Score                      Phrase Category\n",
       "614339  0.027249              the true state    Multi\n",
       "614340  0.027248      dynamic negotiation of    Multi\n",
       "614341  0.027247        analytic methods for    Multi\n",
       "614342  0.027247         element solution of    Multi\n",
       "614343  0.027247    domain of attraction for    Multi\n",
       "...          ...                         ...      ...\n",
       "650346  0.004385     this algorithm does not    Multi\n",
       "650347  0.004292  a programming paradigm for    Multi\n",
       "650348  0.004292       an adaptive method of    Multi\n",
       "650349  0.004292  an integrated database for    Multi\n",
       "650350  0.003529        and more widely used    Multi\n",
       "\n",
       "[36012 rows x 3 columns]"
      ]
     },
     "execution_count": 275,
     "metadata": {},
     "output_type": "execute_result"
    }
   ],
   "source": [
    "# Good phrases that are ranked too low\n",
    "low_anomalies = ap_multi[ap_multi[\"Score\"] < low_threshold]\n",
    "low_anomalies"
   ]
  },
  {
   "cell_type": "markdown",
   "metadata": {},
   "source": [
    "***Non-phrase with a high score (False Positives):***\n",
    "\n",
    "1. Systematic pattern\n",
    "\n",
    "Short single words dominate high-score anomalies, showing AutoPhrase favors single words over multi-word phrases. Some terms appear to be software names or random nouns instead of valid CS concepts. This suggests a scoring bias in AutoPhrase towards frequently occurring standalone words.\n",
    "\n",
    "2. Possible reason behind it\n",
    "\n",
    "General words, proper nouns, and non-technical terms are being ranked too high. Many are unrelated to CS, suggesting AutoPhrase may be over-prioritizing single-word frequency. Some may be software-related (e.g., “Fedora”) but lack contextual validation.\n",
    "\n",
    "***Good phrases with a low score (False Negatives):***\n",
    "\n",
    "1. Systematic pattern\n",
    "\n",
    "Longer multi-word phrases are disproportionately ranked low. Some low-ranked phrases appear to be fragments rather than complete phrases. This suggests a phrase boundary issue in AutoPhrase’s segmentation algorithm.\n",
    "\n",
    "2. Possible reason behind it\n",
    "\n",
    "Likely incomplete segments of valid CS or scientific terms. Phrase boundary detection may be failing, leading to broken phrases. Scoring mechanism may penalize longer phrases, favoring shorter ones.\n",
    "\n",
    "\n",
    "***Ways to improve AutoPhrase:***\n",
    "\n",
    "1. Apply stopword filtering: Named Entity Recognition (NER) to filter out common names and places and remove standalone short words that lack clear technical meaning.\n",
    "\n",
    "2. Improve phrase merging for multi-word terms: N-gram modeling (e.g., bigrams, trigrams) to ensure longer phrases remain intact to check contextual information in DBLP corpus to improve phrase segmentation.\n",
    "\n",
    "3. Use domain knowledge to adjust rankings: Semantic embeddings (e.g., Word2Vec or BERT) to assess phrase meaning, rather than just frequency.\n"
   ]
  },
  {
   "cell_type": "markdown",
   "metadata": {},
   "source": [
    "## b\n",
    "In each line, phrases are separated by space; and in each phrase, words are sepa-\n",
    "rated by underscores. You need to write your own script to parse the file by splitting each string by\n",
    "space, replacing the in-phrase underscore with white space, and lowercase all words. For example,\n",
    "parsing this document \"Performance Benchmark Object-Oriented Database Systems\", you will\n",
    "get such a list of phrases: {performance benchmark, object-oriented, database systems}.\n",
    "Print the result you obtain from first 20 sentences."
   ]
  },
  {
   "cell_type": "code",
   "execution_count": 255,
   "metadata": {},
   "outputs": [],
   "source": [
    "file_path = \"HW3/segmentation.txt\""
   ]
  },
  {
   "cell_type": "code",
   "execution_count": null,
   "metadata": {},
   "outputs": [],
   "source": [
    "parsed_sentences = []\n",
    "with open(file_path, \"r\", encoding=\"utf-8\") as file:\n",
    "    for i in range(20):  # Read first 20 lines\n",
    "        line = file.readline().strip()\n",
    "        if not line:\n",
    "            continue\n",
    "        phrase_set = {phrase.replace(\"_\", \" \").lower() for phrase in line.split()}\n",
    "        parsed_sentences.append(phrase_set)  # Store each line as a set"
   ]
  },
  {
   "cell_type": "code",
   "execution_count": 257,
   "metadata": {},
   "outputs": [
    {
     "name": "stdout",
     "output_type": "stream",
     "text": [
      "{'extending', 'oql', 'c++'}\n",
      "{'multidatabase systems', 'transaction management'}\n",
      "{'overview'}\n",
      "{'information', 'multimedia'}\n",
      "{'database systems', 'active'}\n",
      "{'dbmss', 'object-oriented', 'early'}\n",
      "{'databases', 'distributed'}\n",
      "{'dbms', 'war', 'story', 'c++', 'developing', 'an object-oriented', 'genome', 'database', 'mapping'}\n",
      "{'multiuser', 'cooperative'}\n",
      "{'architecture', 'multidatabase'}\n",
      "{'management', 'physical object'}\n",
      "{'next-generation', 'introduction', 'technology', 'database'}\n",
      "{'object-oriented', 'database systems', 'reality'}\n",
      "{'introduction', 'interoperating', 'legacy databases', 'technology'}\n",
      "{'multidatabase systems', 'resolving', 'schematic'}\n",
      "{'object-oriented', 'database systems', 'performance benchmark'}\n",
      "{'databases', 'object-oriented'}\n",
      "{'managing', 'solution', 'e', 'data', 'p'}\n",
      "{'object database', 'c++'}\n",
      "{'databases', 'object-oriented', 'authorization'}\n"
     ]
    }
   ],
   "source": [
    "for phrase_set in parsed_sentences:\n",
    "    print(phrase_set)"
   ]
  },
  {
   "cell_type": "markdown",
   "metadata": {},
   "source": [
    "## c\n",
    "Run Word2Vec with gensim library on the above text list. For each phrase listed below, re-\n",
    "port the ten most similar phrases based on the word2vec model. Phrase list: computer science,\n",
    "resource management, natural language processing, performance evaluation, data structure,\n",
    "artificial intelligence. Interpret the results in your words and describe if there are any in-\n",
    "teresting findings"
   ]
  },
  {
   "cell_type": "code",
   "execution_count": 258,
   "metadata": {},
   "outputs": [],
   "source": [
    "from gensim.models import Word2Vec\n",
    "import nltk\n",
    "import pandas as pd\n",
    "from nltk.tokenize import word_tokenize\n"
   ]
  },
  {
   "cell_type": "markdown",
   "metadata": {},
   "source": [
    "None of the target phrases were found in the trained Word2Vec model’s vocabulary. This is likely because the first 20 sentences do not contain these exact terms.\n",
    "\n",
    "To improve results, I expanded the dataset by using more lines from the segmentation.txt file."
   ]
  },
  {
   "cell_type": "code",
   "execution_count": 259,
   "metadata": {},
   "outputs": [],
   "source": [
    "# Load more lines from the segmentation file to increase the dataset size\n",
    "num_lines_to_read = 500  # Increasing the dataset size for better Word2Vec training\n",
    "extended_phrases = []\n",
    "\n",
    "with open(\"HW3/segmentation.txt\", \"r\", encoding=\"utf-8\") as file:\n",
    "    for i in range(num_lines_to_read):\n",
    "        line = file.readline().strip()\n",
    "        if not line:\n",
    "            continue\n",
    "        processed_line = \" \".join([phrase.replace(\"_\", \" \").lower() for phrase in line.split()])\n",
    "        extended_phrases.append(processed_line)\n",
    "\n",
    "# Prepare the data for Word2Vec\n",
    "extended_sentences = [phrase.split() for phrase in extended_phrases]\n",
    "\n",
    "# Train Word2Vec model on the extended dataset\n",
    "model_extended = Word2Vec(extended_sentences, vector_size=100, window=5, min_count=1, workers=4)"
   ]
  },
  {
   "cell_type": "code",
   "execution_count": 260,
   "metadata": {},
   "outputs": [
    {
     "data": {
      "text/plain": [
       "{'computer science': [('http', 0.3617090582847595),\n",
       "  ('profile-guided', 0.32410651445388794),\n",
       "  ('standardization', 0.3047562539577484),\n",
       "  ('emerging', 0.3026934266090393),\n",
       "  ('frame-based', 0.2967013120651245),\n",
       "  ('technological', 0.29556387662887573),\n",
       "  ('chapter', 0.28213071823120117),\n",
       "  ('algebraic', 0.2720293700695038),\n",
       "  ('gerald', 0.2701815366744995),\n",
       "  ('commercial', 0.26726430654525757)]}"
      ]
     },
     "execution_count": 260,
     "metadata": {},
     "output_type": "execute_result"
    }
   ],
   "source": [
    "similar_phrases_extended = {}\n",
    "phrase = \"computer science\"\n",
    "words = phrase.split()\n",
    "similar_phrases_extended[phrase] = model_extended.wv.most_similar(words, topn=10)\n",
    "similar_phrases_extended"
   ]
  },
  {
   "cell_type": "markdown",
   "metadata": {},
   "source": [
    "Associations with technology, standardization, and algebraic concepts, suggesting a broad connection to emerging technologies and academic frameworks."
   ]
  },
  {
   "cell_type": "code",
   "execution_count": 261,
   "metadata": {},
   "outputs": [
    {
     "data": {
      "text/plain": [
       "{'resource management': [('processing', 0.32127439975738525),\n",
       "  ('methoden', 0.2881409823894501),\n",
       "  ('preface', 0.276814728975296),\n",
       "  ('art', 0.27204036712646484),\n",
       "  ('intelligent', 0.2699023485183716),\n",
       "  ('vision', 0.2668752670288086),\n",
       "  ('organizational', 0.26091867685317993),\n",
       "  ('objektorientierte', 0.260295033454895),\n",
       "  ('iso', 0.2570474147796631),\n",
       "  ('devices', 0.2533728778362274)]}"
      ]
     },
     "execution_count": 261,
     "metadata": {},
     "output_type": "execute_result"
    }
   ],
   "source": [
    "similar_phrases_extended = {}\n",
    "phrase = \"resource management\"\n",
    "words = phrase.split()\n",
    "similar_phrases_extended[phrase] = model_extended.wv.most_similar(words, topn=10)\n",
    "similar_phrases_extended"
   ]
  },
  {
   "cell_type": "markdown",
   "metadata": {},
   "source": [
    "It seems linked to process optimization, intelligent systems, and organizational strategies, showing relevance to both technical and managerial aspects of resource handling."
   ]
  },
  {
   "cell_type": "code",
   "execution_count": 262,
   "metadata": {},
   "outputs": [
    {
     "data": {
      "text/plain": [
       "{'natural language processing': [('resource', 0.4143719971179962),\n",
       "  ('case', 0.295877605676651),\n",
       "  ('series', 0.2884121537208557),\n",
       "  ('board', 0.2864232361316681),\n",
       "  ('optimierung', 0.2505887746810913),\n",
       "  ('tal', 0.2449406534433365),\n",
       "  ('looming', 0.24245911836624146),\n",
       "  ('profinet', 0.24177174270153046),\n",
       "  ('instance-based', 0.241657555103302),\n",
       "  ('programmierung', 0.23209893703460693)]}"
      ]
     },
     "execution_count": 262,
     "metadata": {},
     "output_type": "execute_result"
    }
   ],
   "source": [
    "similar_phrases_extended = {}\n",
    "phrase = \"natural language processing\"\n",
    "words = phrase.split()\n",
    "similar_phrases_extended[phrase] = model_extended.wv.most_similar(words, topn=10)\n",
    "similar_phrases_extended"
   ]
  },
  {
   "cell_type": "markdown",
   "metadata": {},
   "source": [
    "The term “resource” appears as the most similar, hinting at resource allocation in NLP tasks. Other words like “case” and “series” might relate to case studies or sequence processing in NLP."
   ]
  },
  {
   "cell_type": "code",
   "execution_count": 263,
   "metadata": {},
   "outputs": [
    {
     "data": {
      "text/plain": [
       "{'performance evaluation': [('programmierung', 0.3050137460231781),\n",
       "  ('database', 0.2834338843822479),\n",
       "  ('areas', 0.2833109200000763),\n",
       "  ('object-oriented', 0.28004908561706543),\n",
       "  ('results', 0.27541014552116394),\n",
       "  ('odmg', 0.268669992685318),\n",
       "  ('modularizing', 0.2592046558856964),\n",
       "  ('kamp', 0.25600841641426086),\n",
       "  ('systeme', 0.25252801179885864),\n",
       "  ('object', 0.24608422815799713)]}"
      ]
     },
     "execution_count": 263,
     "metadata": {},
     "output_type": "execute_result"
    }
   ],
   "source": [
    "similar_phrases_extended = {}\n",
    "phrase = \"performance evaluation\"\n",
    "words = phrase.split()\n",
    "similar_phrases_extended[phrase] = model_extended.wv.most_similar(words, topn=10)\n",
    "similar_phrases_extended"
   ]
  },
  {
   "cell_type": "markdown",
   "metadata": {},
   "source": [
    "Associations with databases, object-oriented programming, and modularization suggest a strong software engineering and systems design focus in performance evaluation."
   ]
  },
  {
   "cell_type": "code",
   "execution_count": 271,
   "metadata": {},
   "outputs": [
    {
     "data": {
      "text/plain": [
       "{'data structure': [('mistakes', 0.3874935507774353),\n",
       "  ('local', 0.2958991527557373),\n",
       "  ('internet', 0.29150351881980896),\n",
       "  ('technology', 0.2881990373134613),\n",
       "  ('mechanics', 0.2778448164463043),\n",
       "  ('datenstrukturen', 0.26948675513267517),\n",
       "  ('ietf', 0.26642006635665894),\n",
       "  ('benchmark', 0.2619101107120514),\n",
       "  ('department', 0.2606196701526642),\n",
       "  ('easier', 0.25650668144226074)]}"
      ]
     },
     "execution_count": 271,
     "metadata": {},
     "output_type": "execute_result"
    }
   ],
   "source": [
    "similar_phrases_extended = {}\n",
    "phrase = \"data structure\"\n",
    "# words = phrase.split()\n",
    "similar_phrases_extended[phrase] = model_extended.wv.most_similar(words, topn=10)\n",
    "similar_phrases_extended"
   ]
  },
  {
   "cell_type": "markdown",
   "metadata": {},
   "source": [
    "Before removing words = phrase.split(), the Word2Vec model was not able to recognize “data structure” as a phrase. After splitting the phrase into individual words, the model was able to find similar phrases like “data processing” and “data management”."
   ]
  },
  {
   "cell_type": "code",
   "execution_count": 268,
   "metadata": {},
   "outputs": [
    {
     "data": {
      "text/plain": [
       "{'artificial intelligence': [('mistakes', 0.3874935507774353),\n",
       "  ('local', 0.2958991527557373),\n",
       "  ('internet', 0.29150351881980896),\n",
       "  ('technology', 0.2881990373134613),\n",
       "  ('mechanics', 0.2778448164463043),\n",
       "  ('datenstrukturen', 0.26948675513267517),\n",
       "  ('ietf', 0.26642006635665894),\n",
       "  ('benchmark', 0.2619101107120514),\n",
       "  ('department', 0.2606196701526642),\n",
       "  ('easier', 0.25650668144226074)]}"
      ]
     },
     "execution_count": 268,
     "metadata": {},
     "output_type": "execute_result"
    }
   ],
   "source": [
    "similar_phrases_extended = {}\n",
    "phrase = \"artificial intelligence\"\n",
    "words = phrase.split()\n",
    "similar_phrases_extended[phrase] = model_extended.wv.most_similar(words, topn=10)\n",
    "similar_phrases_extended"
   ]
  },
  {
   "cell_type": "markdown",
   "metadata": {},
   "source": [
    "The presence of “mistakes” suggests an association with error analysis in AI models. Other terms like “internet,” “technology,” and “mechanics” indicate AI’s application areas."
   ]
  },
  {
   "cell_type": "markdown",
   "metadata": {},
   "source": [
    "***Interesting findings: Why Did “Data Structure” Initially Fail While Other Phrases Worked?***\n",
    "1. Word2Vec Treats Multi-Word Phrases as Separate Words\n",
    "\n",
    "words = phrase.split() splits “data structure” into “data” and “structure”. Word2Vec then tried to find similar words for “data” and “structure” separately, which led to no results for “data structure” as a single phrase.\n",
    "\n",
    "Problem: Word2Vec only creates embeddings for words that appear frequently in the training text. If “data” and “structure” appeared separately but not together as “data structure”, then there was no vector for “data structure”.\n",
    "\n",
    "Solution: Removing phrase.split() allowed Word2Vec to treat “data structure” as a single entity, not two separate words.\n",
    "\n",
    "2. Why Didn’t Other Phrases Have This Problem?\n",
    "\n",
    "Some phrases, like “computer science” and “artificial intelligence”, were already in the dataset as multi-word phrases. This means Word2Vec learned embeddings for them as a whole, not as separate words. If the dataset contained many instances of “computer science”, then Word2Vec recognized it as a single phrase, but if “data structure” mostly appeared as “data” and “structure” separately, then Word2Vec failed to associate them as a phrase.\n",
    "\n",
    "3. Frequency and Tokenization Issues\n",
    "\n",
    "Some phrases naturally appear together in text, like “computer science” or “artificial intelligence”. Other phrases might be split in different ways. Maybe “data structure” sometimes appeared as “data structures” (plural). Maybe “data” and “structure” appeared separately more often than together. Maybe some versions of the text used an underscore format (data_structure), which Word2Vec treats as different from “data structure”. Word2Vec only learns embeddings for multi-word phrases if they appear frequently enough as a single unit in the training data.\n",
    "\n",
    "4. How to Prevent This Problem in the Future?\n",
    "\n",
    "• Phrases Instead of Splitting Words: When training Word2Vec, use a phrase detection model to ensure terms like “data structure” are recognized.\n",
    "\n",
    "• Pre-trained Word2Vec Models: Google’s Word2Vec model already has embeddings for “data structure” and other phrases.\n",
    "\n",
    "• Ensure Consistent Formatting: If “data structure” is sometimes written as “data structures”, “data_structure”, or “data & structure”, it can cause inconsistency. Preprocessing the text to standardize multi-word terms can help."
   ]
  },
  {
   "cell_type": "markdown",
   "metadata": {},
   "source": [
    "# Problem 2: Image classification with CNN"
   ]
  },
  {
   "cell_type": "markdown",
   "metadata": {},
   "source": [
    "## a \n",
    "Construct a CNN model pipeline with one convolution layer with 32 filters of size 3-by-3, stride\n",
    "1-by-1, followed by one 2-by-2 MaxPooling layer. For the classification, you will apply a linear\n",
    "(fully-connected) layer with the relu activation function and 100 output hidden units, and finally\n",
    "a softmax layer. Depending on your chosen deep learning framework, you may need to implement\n",
    "a flattening process. Also, apply normalization in your pre-processing as appropriate. Use the\n",
    "Stochastic Gradient Descent (SGD) as the optimizer. You can use a 0.01 learning rate. Report and\n",
    "evaluate the classifier performance."
   ]
  },
  {
   "cell_type": "code",
   "execution_count": 142,
   "metadata": {},
   "outputs": [],
   "source": [
    "# !pip install keras"
   ]
  },
  {
   "cell_type": "code",
   "execution_count": 135,
   "metadata": {},
   "outputs": [],
   "source": [
    "# !pip install tensorflow"
   ]
  },
  {
   "cell_type": "code",
   "execution_count": 220,
   "metadata": {},
   "outputs": [],
   "source": [
    "from tensorflow.keras.datasets import fashion_mnist\n",
    "\n",
    "# Load Fashion-MNIST (correct dataset)\n",
    "(X_train, y_train), (X_test, y_test) = fashion_mnist.load_data()"
   ]
  },
  {
   "cell_type": "code",
   "execution_count": 221,
   "metadata": {},
   "outputs": [
    {
     "name": "stdout",
     "output_type": "stream",
     "text": [
      "X_train shape (60000, 28, 28)\n",
      "y_train shape (60000,)\n",
      "X_test shape (10000, 28, 28)\n",
      "y_test shape (10000,)\n"
     ]
    }
   ],
   "source": [
    "print(\"X_train shape\", X_train.shape)\n",
    "print(\"y_train shape\", y_train.shape)\n",
    "print(\"X_test shape\", X_test.shape)\n",
    "print(\"y_test shape\", y_test.shape)"
   ]
  },
  {
   "cell_type": "code",
   "execution_count": 222,
   "metadata": {},
   "outputs": [],
   "source": [
    "# normalizing the data to help with the training\n",
    "X_train = X_train / 255\n",
    "X_test = X_test / 255"
   ]
  },
  {
   "cell_type": "code",
   "execution_count": 223,
   "metadata": {},
   "outputs": [],
   "source": [
    "# building the input vector from the 28x28 pixels\n",
    "X_train = X_train.reshape(X_train.shape[0], 28, 28, 1)\n",
    "X_test = X_test.reshape(X_test.shape[0], 28, 28, 1)\n",
    "X_train = X_train.astype('float32')\n",
    "X_test = X_test.astype('float32')"
   ]
  },
  {
   "cell_type": "code",
   "execution_count": 185,
   "metadata": {},
   "outputs": [],
   "source": [
    "# !pip install keras.utils"
   ]
  },
  {
   "cell_type": "code",
   "execution_count": 224,
   "metadata": {},
   "outputs": [
    {
     "name": "stdout",
     "output_type": "stream",
     "text": [
      "Shape before one-hot encoding:  (60000,)\n",
      "Shape after one-hot encoding:  (60000, 10)\n"
     ]
    }
   ],
   "source": [
    "from keras.utils import to_categorical\n",
    "\n",
    "# one-hot encoding using keras' numpy-related utilities\n",
    "n_classes = 10\n",
    "print(\"Shape before one-hot encoding: \", y_train.shape)\n",
    "Y_train = to_categorical(y_train, n_classes)\n",
    "Y_test = to_categorical(y_test, n_classes)\n",
    "print(\"Shape after one-hot encoding: \", Y_train.shape)"
   ]
  },
  {
   "cell_type": "code",
   "execution_count": 225,
   "metadata": {},
   "outputs": [
    {
     "data": {
      "text/plain": [
       "array([0., 0., 0., 0., 0., 0., 0., 0., 0., 1.])"
      ]
     },
     "execution_count": 225,
     "metadata": {},
     "output_type": "execute_result"
    }
   ],
   "source": [
    "Y_train[0]"
   ]
  },
  {
   "cell_type": "code",
   "execution_count": 226,
   "metadata": {},
   "outputs": [
    {
     "name": "stderr",
     "output_type": "stream",
     "text": [
      "/opt/conda/lib/python3.11/site-packages/keras/src/layers/convolutional/base_conv.py:107: UserWarning: Do not pass an `input_shape`/`input_dim` argument to a layer. When using Sequential models, prefer using an `Input(shape)` object as the first layer in the model instead.\n",
      "  super().__init__(activity_regularizer=activity_regularizer, **kwargs)\n"
     ]
    }
   ],
   "source": [
    "from keras.models import Sequential\n",
    "from keras.layers import Dense, Conv2D, MaxPool2D, Flatten\n",
    "from keras.optimizers import SGD\n",
    "\n",
    "# Build the CNN model\n",
    "model = Sequential()\n",
    "# Convolutional layer (32 filters, 3x3 kernel, relu activation)\n",
    "model.add(Conv2D(32, kernel_size=(3,3), strides=(1,1), padding='valid', activation='relu', input_shape=(28,28,1)))\n",
    "# MaxPooling layer (2x2)\n",
    "model.add(MaxPool2D(pool_size=(2,2)))\n",
    "# Flatten layer\n",
    "model.add(Flatten())\n",
    "# Fully connected hidden layer (100 neurons, relu activation)\n",
    "model.add(Dense(100, activation='relu'))\n",
    "# Output layer (10 classes, softmax activation)\n",
    "model.add(Dense(10, activation='softmax'))\n",
    "model.compile(loss='categorical_crossentropy', metrics=['accuracy'], optimizer=SGD(learning_rate=0.01))"
   ]
  },
  {
   "cell_type": "code",
   "execution_count": 227,
   "metadata": {},
   "outputs": [
    {
     "name": "stdout",
     "output_type": "stream",
     "text": [
      "Epoch 1/10\n",
      "\u001b[1m469/469\u001b[0m \u001b[32m━━━━━━━━━━━━━━━━━━━━\u001b[0m\u001b[37m\u001b[0m \u001b[1m5s\u001b[0m 10ms/step - accuracy: 0.5281 - loss: 1.4796 - val_accuracy: 0.7546 - val_loss: 0.6935\n",
      "Epoch 2/10\n",
      "\u001b[1m469/469\u001b[0m \u001b[32m━━━━━━━━━━━━━━━━━━━━\u001b[0m\u001b[37m\u001b[0m \u001b[1m6s\u001b[0m 13ms/step - accuracy: 0.7783 - loss: 0.6290 - val_accuracy: 0.7951 - val_loss: 0.5763\n",
      "Epoch 3/10\n",
      "\u001b[1m469/469\u001b[0m \u001b[32m━━━━━━━━━━━━━━━━━━━━\u001b[0m\u001b[37m\u001b[0m \u001b[1m6s\u001b[0m 12ms/step - accuracy: 0.8039 - loss: 0.5498 - val_accuracy: 0.7902 - val_loss: 0.5966\n",
      "Epoch 4/10\n",
      "\u001b[1m469/469\u001b[0m \u001b[32m━━━━━━━━━━━━━━━━━━━━\u001b[0m\u001b[37m\u001b[0m \u001b[1m5s\u001b[0m 10ms/step - accuracy: 0.8179 - loss: 0.5157 - val_accuracy: 0.8110 - val_loss: 0.5234\n",
      "Epoch 5/10\n",
      "\u001b[1m469/469\u001b[0m \u001b[32m━━━━━━━━━━━━━━━━━━━━\u001b[0m\u001b[37m\u001b[0m \u001b[1m5s\u001b[0m 10ms/step - accuracy: 0.8319 - loss: 0.4847 - val_accuracy: 0.8182 - val_loss: 0.5136\n",
      "Epoch 6/10\n",
      "\u001b[1m469/469\u001b[0m \u001b[32m━━━━━━━━━━━━━━━━━━━━\u001b[0m\u001b[37m\u001b[0m \u001b[1m5s\u001b[0m 10ms/step - accuracy: 0.8364 - loss: 0.4618 - val_accuracy: 0.8260 - val_loss: 0.4854\n",
      "Epoch 7/10\n",
      "\u001b[1m469/469\u001b[0m \u001b[32m━━━━━━━━━━━━━━━━━━━━\u001b[0m\u001b[37m\u001b[0m \u001b[1m5s\u001b[0m 11ms/step - accuracy: 0.8419 - loss: 0.4469 - val_accuracy: 0.8291 - val_loss: 0.4745\n",
      "Epoch 8/10\n",
      "\u001b[1m469/469\u001b[0m \u001b[32m━━━━━━━━━━━━━━━━━━━━\u001b[0m\u001b[37m\u001b[0m \u001b[1m5s\u001b[0m 11ms/step - accuracy: 0.8409 - loss: 0.4447 - val_accuracy: 0.8342 - val_loss: 0.4637\n",
      "Epoch 9/10\n",
      "\u001b[1m469/469\u001b[0m \u001b[32m━━━━━━━━━━━━━━━━━━━━\u001b[0m\u001b[37m\u001b[0m \u001b[1m5s\u001b[0m 10ms/step - accuracy: 0.8489 - loss: 0.4275 - val_accuracy: 0.8044 - val_loss: 0.5125\n",
      "Epoch 10/10\n",
      "\u001b[1m469/469\u001b[0m \u001b[32m━━━━━━━━━━━━━━━━━━━━\u001b[0m\u001b[37m\u001b[0m \u001b[1m7s\u001b[0m 14ms/step - accuracy: 0.8519 - loss: 0.4155 - val_accuracy: 0.8463 - val_loss: 0.4379\n"
     ]
    },
    {
     "data": {
      "text/plain": [
       "<keras.src.callbacks.history.History at 0xfffed32baa10>"
      ]
     },
     "execution_count": 227,
     "metadata": {},
     "output_type": "execute_result"
    }
   ],
   "source": [
    "model.fit(X_train, Y_train, batch_size=128, epochs=10, validation_data=(X_test, Y_test))"
   ]
  },
  {
   "cell_type": "code",
   "execution_count": 228,
   "metadata": {},
   "outputs": [
    {
     "name": "stdout",
     "output_type": "stream",
     "text": [
      "\u001b[1m313/313\u001b[0m \u001b[32m━━━━━━━━━━━━━━━━━━━━\u001b[0m\u001b[37m\u001b[0m \u001b[1m0s\u001b[0m 1ms/step - accuracy: 0.8509 - loss: 0.4350\n"
     ]
    }
   ],
   "source": [
    "test_loss, test_acc = model.evaluate(X_test, Y_test)"
   ]
  },
  {
   "cell_type": "markdown",
   "metadata": {},
   "source": [
    "The training accuracy increases steadily from 52.81% (epoch 1) to 85.19% (epoch 10). The loss continuously decreases, indicating that the model is learning effectively. Validation accuracy starts high (~75%) and improves to 84.63% by epoch 10. The validation loss decreases overall but fluctuates slightly (e.g., increasing at epoch 9), which may suggest minor overfitting, but the gap between training and validation accuracy is small (~0.5%), which means the model is generalizing well."
   ]
  },
  {
   "cell_type": "markdown",
   "metadata": {},
   "source": [
    "## b \n",
    "Play with diﬀerent learning rates for the optimizer. You may employ a small learning rate\n",
    "1e− 5 and a large learning rate 1. Report and comment on your observations."
   ]
  },
  {
   "cell_type": "code",
   "execution_count": 229,
   "metadata": {},
   "outputs": [],
   "source": [
    "model.compile(loss='categorical_crossentropy', metrics=['accuracy'], optimizer=SGD(learning_rate=1e-5))"
   ]
  },
  {
   "cell_type": "code",
   "execution_count": 230,
   "metadata": {},
   "outputs": [
    {
     "name": "stdout",
     "output_type": "stream",
     "text": [
      "Epoch 1/10\n",
      "\u001b[1m469/469\u001b[0m \u001b[32m━━━━━━━━━━━━━━━━━━━━\u001b[0m\u001b[37m\u001b[0m \u001b[1m5s\u001b[0m 10ms/step - accuracy: 0.8581 - loss: 0.4047 - val_accuracy: 0.8511 - val_loss: 0.4301\n",
      "Epoch 2/10\n",
      "\u001b[1m469/469\u001b[0m \u001b[32m━━━━━━━━━━━━━━━━━━━━\u001b[0m\u001b[37m\u001b[0m \u001b[1m5s\u001b[0m 10ms/step - accuracy: 0.8621 - loss: 0.3958 - val_accuracy: 0.8514 - val_loss: 0.4265\n",
      "Epoch 3/10\n",
      "\u001b[1m469/469\u001b[0m \u001b[32m━━━━━━━━━━━━━━━━━━━━\u001b[0m\u001b[37m\u001b[0m \u001b[1m5s\u001b[0m 9ms/step - accuracy: 0.8604 - loss: 0.3963 - val_accuracy: 0.8510 - val_loss: 0.4246\n",
      "Epoch 4/10\n",
      "\u001b[1m469/469\u001b[0m \u001b[32m━━━━━━━━━━━━━━━━━━━━\u001b[0m\u001b[37m\u001b[0m \u001b[1m4s\u001b[0m 9ms/step - accuracy: 0.8643 - loss: 0.3899 - val_accuracy: 0.8516 - val_loss: 0.4236\n",
      "Epoch 5/10\n",
      "\u001b[1m469/469\u001b[0m \u001b[32m━━━━━━━━━━━━━━━━━━━━\u001b[0m\u001b[37m\u001b[0m \u001b[1m5s\u001b[0m 10ms/step - accuracy: 0.8645 - loss: 0.3893 - val_accuracy: 0.8510 - val_loss: 0.4229\n",
      "Epoch 6/10\n",
      "\u001b[1m469/469\u001b[0m \u001b[32m━━━━━━━━━━━━━━━━━━━━\u001b[0m\u001b[37m\u001b[0m \u001b[1m4s\u001b[0m 9ms/step - accuracy: 0.8652 - loss: 0.3875 - val_accuracy: 0.8514 - val_loss: 0.4226\n",
      "Epoch 7/10\n",
      "\u001b[1m469/469\u001b[0m \u001b[32m━━━━━━━━━━━━━━━━━━━━\u001b[0m\u001b[37m\u001b[0m \u001b[1m5s\u001b[0m 9ms/step - accuracy: 0.8640 - loss: 0.3902 - val_accuracy: 0.8516 - val_loss: 0.4223\n",
      "Epoch 8/10\n",
      "\u001b[1m469/469\u001b[0m \u001b[32m━━━━━━━━━━━━━━━━━━━━\u001b[0m\u001b[37m\u001b[0m \u001b[1m6s\u001b[0m 11ms/step - accuracy: 0.8654 - loss: 0.3877 - val_accuracy: 0.8519 - val_loss: 0.4221\n",
      "Epoch 9/10\n",
      "\u001b[1m469/469\u001b[0m \u001b[32m━━━━━━━━━━━━━━━━━━━━\u001b[0m\u001b[37m\u001b[0m \u001b[1m5s\u001b[0m 10ms/step - accuracy: 0.8632 - loss: 0.3911 - val_accuracy: 0.8517 - val_loss: 0.4219\n",
      "Epoch 10/10\n",
      "\u001b[1m469/469\u001b[0m \u001b[32m━━━━━━━━━━━━━━━━━━━━\u001b[0m\u001b[37m\u001b[0m \u001b[1m4s\u001b[0m 9ms/step - accuracy: 0.8632 - loss: 0.3899 - val_accuracy: 0.8511 - val_loss: 0.4218\n"
     ]
    },
    {
     "data": {
      "text/plain": [
       "<keras.src.callbacks.history.History at 0xfffed32baf10>"
      ]
     },
     "execution_count": 230,
     "metadata": {},
     "output_type": "execute_result"
    }
   ],
   "source": [
    "model.fit(X_train, Y_train, batch_size=128, epochs=10, validation_data=(X_test, Y_test))"
   ]
  },
  {
   "cell_type": "code",
   "execution_count": 231,
   "metadata": {},
   "outputs": [
    {
     "name": "stdout",
     "output_type": "stream",
     "text": [
      "\u001b[1m313/313\u001b[0m \u001b[32m━━━━━━━━━━━━━━━━━━━━\u001b[0m\u001b[37m\u001b[0m \u001b[1m1s\u001b[0m 2ms/step - accuracy: 0.8583 - loss: 0.4165\n"
     ]
    }
   ],
   "source": [
    "test_loss, test_acc = model.evaluate(X_test, Y_test)"
   ]
  },
  {
   "cell_type": "code",
   "execution_count": 232,
   "metadata": {},
   "outputs": [],
   "source": [
    "model.compile(loss='categorical_crossentropy', metrics=['accuracy'], optimizer=SGD(learning_rate=1.0))"
   ]
  },
  {
   "cell_type": "code",
   "execution_count": 233,
   "metadata": {},
   "outputs": [
    {
     "name": "stdout",
     "output_type": "stream",
     "text": [
      "Epoch 1/10\n",
      "\u001b[1m469/469\u001b[0m \u001b[32m━━━━━━━━━━━━━━━━━━━━\u001b[0m\u001b[37m\u001b[0m \u001b[1m5s\u001b[0m 9ms/step - accuracy: 0.1137 - loss: 2.4147 - val_accuracy: 0.1000 - val_loss: 2.3049\n",
      "Epoch 2/10\n",
      "\u001b[1m469/469\u001b[0m \u001b[32m━━━━━━━━━━━━━━━━━━━━\u001b[0m\u001b[37m\u001b[0m \u001b[1m4s\u001b[0m 9ms/step - accuracy: 0.0985 - loss: 2.3045 - val_accuracy: 0.1000 - val_loss: 2.3056\n",
      "Epoch 3/10\n",
      "\u001b[1m469/469\u001b[0m \u001b[32m━━━━━━━━━━━━━━━━━━━━\u001b[0m\u001b[37m\u001b[0m \u001b[1m4s\u001b[0m 9ms/step - accuracy: 0.0987 - loss: 2.3050 - val_accuracy: 0.1000 - val_loss: 2.3042\n",
      "Epoch 4/10\n",
      "\u001b[1m469/469\u001b[0m \u001b[32m━━━━━━━━━━━━━━━━━━━━\u001b[0m\u001b[37m\u001b[0m \u001b[1m5s\u001b[0m 10ms/step - accuracy: 0.1007 - loss: 2.3044 - val_accuracy: 0.1000 - val_loss: 2.3034\n",
      "Epoch 5/10\n",
      "\u001b[1m469/469\u001b[0m \u001b[32m━━━━━━━━━━━━━━━━━━━━\u001b[0m\u001b[37m\u001b[0m \u001b[1m4s\u001b[0m 9ms/step - accuracy: 0.0984 - loss: 2.3046 - val_accuracy: 0.1000 - val_loss: 2.3030\n",
      "Epoch 6/10\n",
      "\u001b[1m469/469\u001b[0m \u001b[32m━━━━━━━━━━━━━━━━━━━━\u001b[0m\u001b[37m\u001b[0m \u001b[1m5s\u001b[0m 10ms/step - accuracy: 0.0978 - loss: 2.3046 - val_accuracy: 0.1000 - val_loss: 2.3036\n",
      "Epoch 7/10\n",
      "\u001b[1m469/469\u001b[0m \u001b[32m━━━━━━━━━━━━━━━━━━━━\u001b[0m\u001b[37m\u001b[0m \u001b[1m4s\u001b[0m 9ms/step - accuracy: 0.0988 - loss: 2.3045 - val_accuracy: 0.1000 - val_loss: 2.3032\n",
      "Epoch 8/10\n",
      "\u001b[1m469/469\u001b[0m \u001b[32m━━━━━━━━━━━━━━━━━━━━\u001b[0m\u001b[37m\u001b[0m \u001b[1m5s\u001b[0m 10ms/step - accuracy: 0.0997 - loss: 2.3045 - val_accuracy: 0.1000 - val_loss: 2.3052\n",
      "Epoch 9/10\n",
      "\u001b[1m469/469\u001b[0m \u001b[32m━━━━━━━━━━━━━━━━━━━━\u001b[0m\u001b[37m\u001b[0m \u001b[1m5s\u001b[0m 10ms/step - accuracy: 0.0998 - loss: 2.3047 - val_accuracy: 0.1000 - val_loss: 2.3046\n",
      "Epoch 10/10\n",
      "\u001b[1m469/469\u001b[0m \u001b[32m━━━━━━━━━━━━━━━━━━━━\u001b[0m\u001b[37m\u001b[0m \u001b[1m4s\u001b[0m 9ms/step - accuracy: 0.0998 - loss: 2.3045 - val_accuracy: 0.1000 - val_loss: 2.3040\n"
     ]
    },
    {
     "data": {
      "text/plain": [
       "<keras.src.callbacks.history.History at 0xfffed2b85910>"
      ]
     },
     "execution_count": 233,
     "metadata": {},
     "output_type": "execute_result"
    }
   ],
   "source": [
    "model.fit(X_train, Y_train, batch_size=128, epochs=10, validation_data=(X_test, Y_test))"
   ]
  },
  {
   "cell_type": "code",
   "execution_count": 196,
   "metadata": {},
   "outputs": [
    {
     "name": "stdout",
     "output_type": "stream",
     "text": [
      "\u001b[1m313/313\u001b[0m \u001b[32m━━━━━━━━━━━━━━━━━━━━\u001b[0m\u001b[37m\u001b[0m \u001b[1m0s\u001b[0m 1ms/step - accuracy: 0.1056 - loss: 2.3030\n"
     ]
    }
   ],
   "source": [
    "test_loss, test_acc = model.evaluate(X_test, Y_test)"
   ]
  },
  {
   "cell_type": "markdown",
   "metadata": {},
   "source": [
    "1.\tLearning Rate = 0.01 → Accuracy: 85.09%\n",
    "\n",
    "• Best trade-off between training speed and accuracy. Loss is low (0.4350), and model converges well. Used in the main training session.\n",
    "\n",
    "2.\tLearning Rate = 1e-5 → Accuracy: 85.83%\n",
    "\n",
    "• Highest accuracy, but training is very slow. The loss decreased more gradually. Great for fine-tuning a pre-trained model, but not ideal for fast training.\n",
    "\n",
    "3.\tLearning Rate = 1.0 → Accuracy: 10.56%\n",
    "\n",
    "• The model failed to learn, stuck at random guessing (10% accuracy). The loss remained high (2.3030), meaning the model did not converge. Large learning rates cause the model to overshoot the optimal weights."
   ]
  },
  {
   "cell_type": "markdown",
   "metadata": {},
   "source": [
    "## c \n",
    "Instead of using one convolution layer, this time we add a convolution layer with 64 filters. Thus\n",
    "we will have two convolution layers in the model. Make sure you set up the activation and pooling\n",
    "layers properly. Present and discuss the results."
   ]
  },
  {
   "cell_type": "code",
   "execution_count": 234,
   "metadata": {},
   "outputs": [],
   "source": [
    "from keras.models import Sequential\n",
    "from keras.layers import Dense, Conv2D, MaxPool2D, Flatten\n",
    "from keras.optimizers import SGD\n",
    "\n",
    "# Build the CNN model\n",
    "model = Sequential()\n",
    "# Convolutional layer (32 filters, 3x3 kernel, relu activation)\n",
    "model.add(Conv2D(32, kernel_size=(3,3), strides=(1,1), padding='valid', activation='relu', input_shape=(28,28,1)))\n",
    "# MaxPooling layer (2x2)\n",
    "model.add(MaxPool2D(pool_size=(2,2)))\n",
    "# Convolutional layer (64 filters, 3x3 kernel, relu activation)\n",
    "model.add(Conv2D(64, kernel_size=(3,3), strides=(1,1), padding='valid', activation='relu'))\n",
    "# MaxPooling layer (2x2)\n",
    "model.add(MaxPool2D(pool_size=(2,2)))\n",
    "# Flatten layer\n",
    "model.add(Flatten())\n",
    "# Fully connected hidden layer (100 neurons, relu activation)\n",
    "model.add(Dense(100, activation='relu'))\n",
    "# Output layer (10 classes, softmax activation)\n",
    "model.add(Dense(10, activation='softmax'))\n",
    "model.compile(loss='categorical_crossentropy', metrics=['accuracy'], optimizer=SGD(learning_rate=0.01))"
   ]
  },
  {
   "cell_type": "code",
   "execution_count": 235,
   "metadata": {},
   "outputs": [
    {
     "name": "stdout",
     "output_type": "stream",
     "text": [
      "Epoch 1/10\n",
      "\u001b[1m469/469\u001b[0m \u001b[32m━━━━━━━━━━━━━━━━━━━━\u001b[0m\u001b[37m\u001b[0m \u001b[1m10s\u001b[0m 20ms/step - accuracy: 0.4329 - loss: 1.8255 - val_accuracy: 0.6461 - val_loss: 1.0824\n",
      "Epoch 2/10\n",
      "\u001b[1m469/469\u001b[0m \u001b[32m━━━━━━━━━━━━━━━━━━━━\u001b[0m\u001b[37m\u001b[0m \u001b[1m9s\u001b[0m 19ms/step - accuracy: 0.7215 - loss: 0.7640 - val_accuracy: 0.7589 - val_loss: 0.6722\n",
      "Epoch 3/10\n",
      "\u001b[1m469/469\u001b[0m \u001b[32m━━━━━━━━━━━━━━━━━━━━\u001b[0m\u001b[37m\u001b[0m \u001b[1m10s\u001b[0m 19ms/step - accuracy: 0.7586 - loss: 0.6447 - val_accuracy: 0.7750 - val_loss: 0.6184\n",
      "Epoch 4/10\n",
      "\u001b[1m469/469\u001b[0m \u001b[32m━━━━━━━━━━━━━━━━━━━━\u001b[0m\u001b[37m\u001b[0m \u001b[1m9s\u001b[0m 19ms/step - accuracy: 0.7843 - loss: 0.5799 - val_accuracy: 0.7962 - val_loss: 0.5609\n",
      "Epoch 5/10\n",
      "\u001b[1m469/469\u001b[0m \u001b[32m━━━━━━━━━━━━━━━━━━━━\u001b[0m\u001b[37m\u001b[0m \u001b[1m9s\u001b[0m 19ms/step - accuracy: 0.7990 - loss: 0.5439 - val_accuracy: 0.7912 - val_loss: 0.5514\n",
      "Epoch 6/10\n",
      "\u001b[1m469/469\u001b[0m \u001b[32m━━━━━━━━━━━━━━━━━━━━\u001b[0m\u001b[37m\u001b[0m \u001b[1m8s\u001b[0m 18ms/step - accuracy: 0.8085 - loss: 0.5187 - val_accuracy: 0.8162 - val_loss: 0.5102\n",
      "Epoch 7/10\n",
      "\u001b[1m469/469\u001b[0m \u001b[32m━━━━━━━━━━━━━━━━━━━━\u001b[0m\u001b[37m\u001b[0m \u001b[1m10s\u001b[0m 18ms/step - accuracy: 0.8179 - loss: 0.4918 - val_accuracy: 0.8148 - val_loss: 0.4980\n",
      "Epoch 8/10\n",
      "\u001b[1m469/469\u001b[0m \u001b[32m━━━━━━━━━━━━━━━━━━━━\u001b[0m\u001b[37m\u001b[0m \u001b[1m9s\u001b[0m 19ms/step - accuracy: 0.8269 - loss: 0.4731 - val_accuracy: 0.8285 - val_loss: 0.4791\n",
      "Epoch 9/10\n",
      "\u001b[1m469/469\u001b[0m \u001b[32m━━━━━━━━━━━━━━━━━━━━\u001b[0m\u001b[37m\u001b[0m \u001b[1m8s\u001b[0m 18ms/step - accuracy: 0.8322 - loss: 0.4602 - val_accuracy: 0.8362 - val_loss: 0.4578\n",
      "Epoch 10/10\n",
      "\u001b[1m469/469\u001b[0m \u001b[32m━━━━━━━━━━━━━━━━━━━━\u001b[0m\u001b[37m\u001b[0m \u001b[1m9s\u001b[0m 19ms/step - accuracy: 0.8396 - loss: 0.4394 - val_accuracy: 0.8309 - val_loss: 0.4653\n"
     ]
    },
    {
     "data": {
      "text/plain": [
       "<keras.src.callbacks.history.History at 0xfffee54540d0>"
      ]
     },
     "execution_count": 235,
     "metadata": {},
     "output_type": "execute_result"
    }
   ],
   "source": [
    "model.fit(X_train, Y_train, batch_size=128, epochs=10, validation_data=(X_test, Y_test))"
   ]
  },
  {
   "cell_type": "code",
   "execution_count": 236,
   "metadata": {},
   "outputs": [
    {
     "name": "stdout",
     "output_type": "stream",
     "text": [
      "\u001b[1m313/313\u001b[0m \u001b[32m━━━━━━━━━━━━━━━━━━━━\u001b[0m\u001b[37m\u001b[0m \u001b[1m1s\u001b[0m 2ms/step - accuracy: 0.8343 - loss: 0.4630\n"
     ]
    }
   ],
   "source": [
    "test_loss, test_acc = model.evaluate(X_test, Y_test)"
   ]
  },
  {
   "cell_type": "markdown",
   "metadata": {},
   "source": [
    "The second convolutional layer made loss decrease faster, but accuracy didn’t improve. The model learned features more quickly, but accuracy did not increase. The one-layer model (85.09%) slightly outperformed the two-layer model (83.43%). Additionally, the extra convolutional layer may have added too much complexity, leading to overfitting. Fashion-MNIST is relatively simple, and deeper networks may not be necessary. Regularization (dropout, batch normalization) might help. Training time increased after adding one more layer. This is expected because the second convolutional layer has 64 filters (more computations)."
   ]
  },
  {
   "cell_type": "markdown",
   "metadata": {},
   "source": [
    "Compared to the model training with one convolutional layer, accuracy dropped when training with two layers. Normally, adding more layers improves feature extraction, but in this case:\n",
    "\n",
    "1.\tThe extra layer may have slightly over-complicated the model for Fashion-MNIST. Fashion-MNIST is relatively simple. A deeper model may not have been necessary, leading to a small accuracy drop.\n",
    "\n",
    "2.\tThe model might need more training epochs. Deeper models take longer to converge. If we trained for 20+ epochs instead of 10, accuracy might improve.\n",
    "\n",
    "3.\tSGD might not be the best optimizer for deeper networks. SGD with momentum or Adam could help train the deeper model better. We could try reducing the learning rate after a few epochs."
   ]
  }
 ],
 "metadata": {
  "kernelspec": {
   "display_name": "base",
   "language": "python",
   "name": "python3"
  },
  "language_info": {
   "codemirror_mode": {
    "name": "ipython",
    "version": 3
   },
   "file_extension": ".py",
   "mimetype": "text/x-python",
   "name": "python",
   "nbconvert_exporter": "python",
   "pygments_lexer": "ipython3",
   "version": "3.11.9"
  }
 },
 "nbformat": 4,
 "nbformat_minor": 2
}
